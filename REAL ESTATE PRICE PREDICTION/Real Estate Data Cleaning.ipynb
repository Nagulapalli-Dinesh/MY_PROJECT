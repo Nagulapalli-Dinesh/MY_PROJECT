{
 "cells": [
  {
   "cell_type": "code",
   "execution_count": 31,
   "metadata": {
    "id": "Jmwq_N9TuNlP"
   },
   "outputs": [],
   "source": [
    "# %pip install locationtagger\n",
    "# %pip install nltk\n",
    "# %pip install spacy\n",
    "# %pip install lxml_html_clean"
   ]
  },
  {
   "cell_type": "code",
   "execution_count": 1,
   "metadata": {},
   "outputs": [],
   "source": [
    "# !python -m spacy download en_core_web_sm"
   ]
  },
  {
   "cell_type": "code",
   "execution_count": 2,
   "metadata": {},
   "outputs": [],
   "source": [
    "# import spacy\n",
    "# nlp = spacy.load(\"en_core_web_sm\")\n",
    "# print(\"Model loaded successfully!\")"
   ]
  },
  {
   "cell_type": "code",
   "execution_count": 3,
   "metadata": {},
   "outputs": [],
   "source": [
    "# import nltk\n",
    "\n",
    " \n",
    "# # essential entity models downloads\n",
    "# nltk.downloader.download('maxent_ne_chunker')\n",
    "# nltk.downloader.download('words')\n",
    "# nltk.downloader.download('treebank')\n",
    "# nltk.downloader.download('maxent_treebank_pos_tagger')\n",
    "# nltk.downloader.download('punkt')\n",
    "# nltk.download('averaged_perceptron_tagger')"
   ]
  },
  {
   "cell_type": "markdown",
   "metadata": {
    "id": "a3ICoI9OHxzt"
   },
   "source": [
    "# New Section"
   ]
  },
  {
   "cell_type": "code",
   "execution_count": 4,
   "metadata": {},
   "outputs": [],
   "source": [
    "# from google.colab import drive\n",
    "# drive.mount('/content/MyDrive')"
   ]
  },
  {
   "cell_type": "code",
   "execution_count": 5,
   "metadata": {},
   "outputs": [],
   "source": [
    "import numpy as np\n",
    "import pandas as pd\n",
    "import locationtagger"
   ]
  },
  {
   "cell_type": "code",
   "execution_count": 6,
   "metadata": {},
   "outputs": [],
   "source": [
    "raw_df = pd.read_csv(r'D:\\DINESH_DATA_SCIENCE\\MY_PROJECT\\REAL ESTATE PRICE PREDICTION\\Real Estate Data V21.csv')"
   ]
  },
  {
   "cell_type": "code",
   "execution_count": 7,
   "metadata": {},
   "outputs": [
    {
     "name": "stdout",
     "output_type": "stream",
     "text": [
      "['Name', 'Property Title', 'Price', 'Location', 'Total_Area', 'Price_per_SQFT', 'Description', 'Baths', 'Balcony']\n"
     ]
    }
   ],
   "source": [
    "print(list(raw_df.columns))"
   ]
  },
  {
   "cell_type": "code",
   "execution_count": 8,
   "metadata": {},
   "outputs": [],
   "source": [
    "raw_df = raw_df.drop(columns=['Description'], axis=1)"
   ]
  },
  {
   "cell_type": "code",
   "execution_count": 9,
   "metadata": {},
   "outputs": [],
   "source": [
    "def extract_entities_lst(line):\n",
    "    entities_lst = []\n",
    "    if ',' in line:\n",
    "        entities_lst = line.split(',')\n",
    "    if entities_lst:\n",
    "        entities_lst = [entity.rstrip(' ') for entity in entities_lst]\n",
    "        entities_lst = [entity.lstrip(' ') for entity in entities_lst]\n",
    "    return entities_lst\n",
    "    \n",
    "def extract_entities_from_text(sample_text):\n",
    "    entities = extract_entities_lst(sample_text)\n",
    "    # extracting entities.\n",
    "    place_entity = locationtagger.find_locations(text = sample_text)\n",
    "    \n",
    "    country_str = ''\n",
    "    # getting all countries\n",
    "    if place_entity.countries:\n",
    "        country_str = list(place_entity.countries)[0]\n",
    "    elif place_entity.other_countries:\n",
    "        country_str = list(place_entity.other_countries)[0]\n",
    "    if country_str and country_str in entities:\n",
    "        entities.remove(country_str)\n",
    "\n",
    "\n",
    "    state_str = ''\n",
    "    # getting all states\n",
    "    if place_entity.regions:\n",
    "        state_str = list(place_entity.regions)[0]\n",
    "    elif place_entity.other_regions:\n",
    "        state_str = list(place_entity.other_regions)[0]\n",
    "    if state_str and state_str in entities:\n",
    "        entities.remove(state_str)\n",
    "\n",
    "\n",
    "    city_str = ''\n",
    "    # getting all cities\n",
    "    if place_entity.cities:\n",
    "        city_str = list(place_entity.cities)[0]\n",
    "    if city_str and city_str in entities:\n",
    "            entities.remove(city_str)\n",
    "        \n",
    "    # entities_str = ', '.join(entities)\n",
    "    return entities, city_str, state_str, country_str"
   ]
  },
  {
   "cell_type": "code",
   "execution_count": 10,
   "metadata": {},
   "outputs": [],
   "source": [
    "state_lst = []\n",
    "country_lst = []\n",
    "city_lst = []\n",
    "other_lst = []\n",
    "named_lst = []"
   ]
  },
  {
   "cell_type": "code",
   "execution_count": 11,
   "metadata": {},
   "outputs": [],
   "source": [
    "limiter = ' for sale in '\n",
    "new_property_title_lst = []\n",
    "for i in range(len(raw_df['Location'])):\n",
    "    # print(\"Current Instance: \", i)\n",
    "    new_property_title_lst.append(raw_df['Property Title'][i].split(limiter)[0])\n",
    "    named_entities = extract_entities_lst(raw_df['Name'][i])\n",
    "    given_loc_entities = extract_entities_lst(raw_df['Location'][i])\n",
    "    prop_loc_entities = extract_entities_lst(raw_df['Property Title'][i].split(limiter)[1])\n",
    "    for prop_loc in prop_loc_entities:\n",
    "        if prop_loc not in given_loc_entities:\n",
    "            given_loc_entities.append(prop_loc)\n",
    "    \n",
    "    given_loc_str = ', '.join(given_loc_entities)\n",
    "    for given_loc in given_loc_entities:\n",
    "        if given_loc in named_entities:\n",
    "            named_entities.remove(given_loc)\n",
    "    named_entities_str = ', '.join(named_entities)\n",
    "    \n",
    "    loc_mark_in_city, loc_city, loc_state, loc_country = extract_entities_from_text(given_loc_str)\n",
    "    \n",
    "    if loc_mark_in_city:\n",
    "        other_lst.append(loc_mark_in_city)\n",
    "    else:\n",
    "        other_lst.append(np.nan)\n",
    "        \n",
    "    if loc_city:\n",
    "        city_lst.append(loc_city)\n",
    "    else:\n",
    "        city_lst.append(np.nan)\n",
    "    \n",
    "    if loc_state:\n",
    "        state_lst.append(loc_state)\n",
    "    else:\n",
    "        state_lst.append(np.nan)\n",
    "    \n",
    "    if loc_country:\n",
    "        country_lst.append(loc_country)\n",
    "    else:\n",
    "        country_lst.append(np.nan)\n",
    "    \n",
    "    if not named_entities_str:\n",
    "        named_entities_str = np.nan\n",
    "    named_lst.append(named_entities_str)"
   ]
  },
  {
   "cell_type": "code",
   "execution_count": 12,
   "metadata": {},
   "outputs": [],
   "source": [
    "raw_df['Name'] = named_lst\n",
    "raw_df['Property Title'] = new_property_title_lst\n",
    "raw_df['Mark_in_City'] = other_lst\n",
    "raw_df['City'] = city_lst\n",
    "raw_df['State'] = state_lst\n",
    "raw_df['Country'] = country_lst"
   ]
  },
  {
   "cell_type": "markdown",
   "metadata": {},
   "source": [
    "* Extracting number of bedrooms Type"
   ]
  },
  {
   "cell_type": "code",
   "execution_count": 13,
   "metadata": {},
   "outputs": [],
   "source": [
    "property_title_lst = list(raw_df['Property Title'])\n",
    "bedroom_lst = list()\n",
    "\n",
    "for i in range(len(property_title_lst)):\n",
    "    try:\n",
    "        if 'bhk' in property_title_lst[i].lower():\n",
    "            bedroom_lst.append(property_title_lst[i].lower().split(' bhk')[0])\n",
    "        else:\n",
    "            bedroom_lst.append(str(1))\n",
    "    except Exception as e:\n",
    "        print('Exception: ', str(e))\n",
    "        bedroom_lst.append(str(1))\n",
    "\n",
    "raw_df['Bedrooms'] = bedroom_lst"
   ]
  },
  {
   "cell_type": "code",
   "execution_count": 14,
   "metadata": {},
   "outputs": [],
   "source": [
    "raw_df['Bedrooms'] = raw_df['Bedrooms'].mask(raw_df['Bedrooms'] == '5+', float(5.5))"
   ]
  },
  {
   "cell_type": "code",
   "execution_count": 15,
   "metadata": {},
   "outputs": [
    {
     "name": "stdout",
     "output_type": "stream",
     "text": [
      "['4', '10', '3', '7', '2', '1', '6', '5', '8', '1.5', '2.5', '9', '3.5', 5.5, '10.5', '4.5', '9.5', '8.5', '7.5']\n"
     ]
    }
   ],
   "source": [
    "unique_lst = list(raw_df['Bedrooms'].unique())\n",
    "print(unique_lst)\n",
    "for unique_ele in unique_lst:\n",
    "    if isinstance(unique_ele, str):\n",
    "        raw_df['Bedrooms'] = raw_df['Bedrooms'].mask(raw_df['Bedrooms'] == unique_ele, float(unique_ele))"
   ]
  },
  {
   "cell_type": "code",
   "execution_count": 16,
   "metadata": {},
   "outputs": [
    {
     "name": "stdout",
     "output_type": "stream",
     "text": [
      "[4.0 10.0 3.0 7.0 2.0 1.0 6.0 5.0 8.0 1.5 2.5 9.0 3.5 5.5 10.5 4.5 9.5 8.5\n",
      " 7.5]\n"
     ]
    }
   ],
   "source": [
    "print(raw_df['Bedrooms'].unique())"
   ]
  },
  {
   "cell_type": "markdown",
   "metadata": {},
   "source": [
    "* Extracting House/Flat/Villa Type"
   ]
  },
  {
   "cell_type": "code",
   "execution_count": 17,
   "metadata": {},
   "outputs": [],
   "source": [
    "house_flat_lst = []\n",
    "for i in range(len(property_title_lst)):\n",
    "    if 'flat' in property_title_lst[i].lower():\n",
    "        house_flat_lst.append('flat')\n",
    "    elif 'house' in property_title_lst[i].lower():\n",
    "        house_flat_lst.append('house')\n",
    "    elif 'villa' in property_title_lst[i].lower():\n",
    "        house_flat_lst.append('villa')\n",
    "    else:\n",
    "        house_flat_lst.append('other')\n",
    "        print('Other: ', property_title_lst[i])\n",
    "        \n",
    "raw_df['House/Flat/Villa'] = house_flat_lst"
   ]
  },
  {
   "cell_type": "code",
   "execution_count": 18,
   "metadata": {},
   "outputs": [
    {
     "name": "stdout",
     "output_type": "stream",
     "text": [
      "14528\n",
      "14528\n"
     ]
    }
   ],
   "source": [
    "print(len(new_property_title_lst))\n",
    "new_property_title_lst_ = []\n",
    "hall_lst = []\n",
    "kitchen_lst = []\n",
    "studio_shop_lst = []\n",
    "new_property_type_lst_ = []\n",
    "for new_property_title in new_property_title_lst:\n",
    "    temp_hall = 0\n",
    "    temp_kitchen = 0\n",
    "    temp_studio = 0\n",
    "    if 'BHK' in new_property_title:\n",
    "        new_property_title_lst_.append(new_property_title.split('BHK')[1].strip())\n",
    "        new_property_type_lst_.append('BHK')\n",
    "        temp_hall = 1\n",
    "        temp_kitchen = 1\n",
    "    elif 'RK' in new_property_title:\n",
    "        new_property_title_lst_.append(new_property_title.split('RK')[1].strip())\n",
    "        new_property_type_lst_.append('RK')\n",
    "        temp_kitchen = 1\n",
    "    elif 'Studio' in new_property_title:\n",
    "        new_property_title_lst_.append(new_property_title.split('Studio')[1].strip())\n",
    "        new_property_type_lst_.append('Studio')\n",
    "        temp_studio = 1\n",
    "    elif 'Shop' in new_property_title:\n",
    "        new_property_title_lst_.append(new_property_title.split('Shop')[1].strip())\n",
    "        new_property_type_lst_.append('Shop')\n",
    "        temp_studio = 1\n",
    "    elif 'BH' in new_property_title:\n",
    "        new_property_title_lst_.append(new_property_title.split('BH')[1].strip())\n",
    "        new_property_type_lst_.append('BH')\n",
    "        temp_hall = 1\n",
    "    elif 'R' in new_property_title:\n",
    "        new_property_title_lst_.append(new_property_title.split('R')[1].strip())\n",
    "        new_property_type_lst_.append('R')\n",
    "    else:\n",
    "        new_property_title_lst_.append(new_property_title)\n",
    "        new_property_type_lst_.append('Other')\n",
    "    hall_lst.append(temp_hall)\n",
    "    kitchen_lst.append(temp_kitchen)\n",
    "    studio_shop_lst.append(temp_studio)\n",
    "# Print the cleaned list\n",
    "print(len(new_property_title_lst_))"
   ]
  },
  {
   "cell_type": "code",
   "execution_count": 19,
   "metadata": {},
   "outputs": [],
   "source": [
    "raw_df['Property_Type'] = new_property_type_lst_\n",
    "raw_df['Property Title'] = new_property_title_lst_\n",
    "raw_df['Hall'] = hall_lst\n",
    "raw_df['Kitchen'] = kitchen_lst\n",
    "raw_df['Studio/Shop'] = studio_shop_lst"
   ]
  },
  {
   "cell_type": "code",
   "execution_count": 20,
   "metadata": {},
   "outputs": [],
   "source": [
    "new_property_title_lst = []\n",
    "for i in range(len(raw_df['Property Title'])):\n",
    "        new_property_title_lst.append(raw_df['Property Title'][i] + ' ' + str(i))\n",
    "raw_df['Property Title'] = new_property_title_lst"
   ]
  },
  {
   "cell_type": "markdown",
   "metadata": {},
   "source": [
    "* data cleaning the Target Variable (Price in K)"
   ]
  },
  {
   "cell_type": "code",
   "execution_count": 21,
   "metadata": {},
   "outputs": [],
   "source": [
    "price_lst = list(raw_df['Price'])\n",
    "price_lst_ = []\n",
    "for price in price_lst:\n",
    "    try:\n",
    "        price_lst_.append(price.replace('₹', ''))\n",
    "    except Exception as e:\n",
    "        print('Exception: ', str(e))\n",
    "        price_lst_.append(price)\n",
    "price_lst = price_lst_"
   ]
  },
  {
   "cell_type": "code",
   "execution_count": 22,
   "metadata": {},
   "outputs": [],
   "source": [
    "price_lst_inr = []\n",
    "for current_price in price_lst:\n",
    "    try:\n",
    "        if 'Cr' in current_price:\n",
    "            price_lst_inr.append(int(float(current_price.split('Cr')[0]) * 100) * 100)\n",
    "        elif 'L' in current_price:\n",
    "            price_lst_inr.append(int(float(current_price.split('L')[0]) * 100))\n",
    "        elif 'K' in current_price:\n",
    "            price_lst_inr.append(int(float(current_price.split('K')[0]) * 100) // 100)\n",
    "        else:\n",
    "            if 'k' in current_price:\n",
    "                price_lst_inr.append(int(float(current_price.split('k')[0]) * 100) // 100)\n",
    "            else:\n",
    "                price_lst_inr.append(np.nan)\n",
    "    except Exception as e:\n",
    "        print('Exception: ', str(e))\n",
    "        print(\"Error\")\n",
    "        print(current_price)"
   ]
  },
  {
   "cell_type": "code",
   "execution_count": 23,
   "metadata": {},
   "outputs": [],
   "source": [
    "raw_df['Price (in Thousands)'] = price_lst_inr"
   ]
  },
  {
   "cell_type": "code",
   "execution_count": 24,
   "metadata": {},
   "outputs": [],
   "source": [
    "raw_df['Price (in Thousands)'] = raw_df['Price (in Thousands)'].bfill()"
   ]
  },
  {
   "cell_type": "code",
   "execution_count": 25,
   "metadata": {},
   "outputs": [
    {
     "name": "stdout",
     "output_type": "stream",
     "text": [
      "['Name', 'Property Title', 'Price', 'Location', 'Total_Area', 'Price_per_SQFT', 'Baths', 'Balcony', 'Mark_in_City', 'City', 'State', 'Country', 'Bedrooms', 'House/Flat/Villa', 'Property_Type', 'Hall', 'Kitchen', 'Studio/Shop', 'Price (in Thousands)']\n"
     ]
    }
   ],
   "source": [
    "print(list(raw_df.columns))"
   ]
  },
  {
   "cell_type": "code",
   "execution_count": 26,
   "metadata": {},
   "outputs": [],
   "source": [
    "raw_df = raw_df.drop(columns=['Location', 'Price'], axis=1)"
   ]
  },
  {
   "cell_type": "code",
   "execution_count": 27,
   "metadata": {},
   "outputs": [],
   "source": [
    "city_lst = []\n",
    "state_lst = []\n",
    "for i in range(len(raw_df['Mark_in_City'])):\n",
    "    if isinstance(raw_df['City'][i], float) or isinstance(raw_df['State'][i], float):\n",
    "        if 'New Delhi' in raw_df['Mark_in_City'][i]:\n",
    "            city_lst.append('New Delhi')\n",
    "            state_lst.append('National Union Territory')\n",
    "        else:\n",
    "            print('Mark_in_City : ', raw_df['Mark_in_City'][i])\n",
    "            city_lst.append(raw_df['City'][i])\n",
    "            state_lst.append(raw_df['State'][i])\n",
    "    else:\n",
    "        city_lst.append(raw_df['City'][i])\n",
    "        state_lst.append(raw_df['State'][i])\n",
    "\n",
    "raw_df['City'] = city_lst\n",
    "raw_df['State'] = state_lst\n"
   ]
  },
  {
   "cell_type": "code",
   "execution_count": 28,
   "metadata": {},
   "outputs": [],
   "source": [
    "raw_df['Country'] = raw_df['Country'].fillna('India')"
   ]
  },
  {
   "cell_type": "code",
   "execution_count": 29,
   "metadata": {},
   "outputs": [
    {
     "name": "stdout",
     "output_type": "stream",
     "text": [
      "Name                     True\n",
      "Property Title          False\n",
      "Total_Area              False\n",
      "Price_per_SQFT          False\n",
      "Baths                   False\n",
      "Balcony                 False\n",
      "Mark_in_City            False\n",
      "City                    False\n",
      "State                   False\n",
      "Country                 False\n",
      "Bedrooms                False\n",
      "House/Flat/Villa        False\n",
      "Property_Type           False\n",
      "Hall                    False\n",
      "Kitchen                 False\n",
      "Studio/Shop             False\n",
      "Price (in Thousands)    False\n",
      "dtype: bool\n"
     ]
    }
   ],
   "source": [
    "print(raw_df.isnull().any())"
   ]
  },
  {
   "cell_type": "code",
   "execution_count": 30,
   "metadata": {},
   "outputs": [],
   "source": [
    "raw_df.to_excel('D:\\DINESH_DATA_SCIENCE\\MY_PROJECT\\REAL ESTATE PRICE PREDICTION\\Real_Estate_Data_V21.xlsx', index=False)"
   ]
  }
 ],
 "metadata": {
  "accelerator": "GPU",
  "colab": {
   "authorship_tag": "ABX9TyNOMTLCDHVo8VgaaRVfix76",
   "gpuType": "T4",
   "mount_file_id": "1A8O66dmytsdNZItukiAljbs4-KwURZD0",
   "provenance": []
  },
  "kernelspec": {
   "display_name": "Python 3",
   "name": "python3"
  },
  "language_info": {
   "codemirror_mode": {
    "name": "ipython",
    "version": 3
   },
   "file_extension": ".py",
   "mimetype": "text/x-python",
   "name": "python",
   "nbconvert_exporter": "python",
   "pygments_lexer": "ipython3",
   "version": "3.10.11"
  }
 },
 "nbformat": 4,
 "nbformat_minor": 0
}
